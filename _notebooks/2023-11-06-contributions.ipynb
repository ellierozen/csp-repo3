{
 "cells": [
  {
   "cell_type": "markdown",
   "metadata": {},
   "source": [
    "<body>\n",
    "    <!-- Creating a section with ID 'rectangle2' and class 'rectangle2' containing a 'Home' button and a title 'Find Nearby Museums' -->\n",
    "    <div id='rectangle2' class='rectangle2'>\n",
    "        <button class='button arthub' onclick=\"location.href='//ellierozen.github.io/arthubfrontend-/homepage';\">Home</button>\n",
    "        <h1>Find Nearby Museums</h1>\n",
    "    </div>\n",
    "    <!-- A section with ID 'searchBar' to contain a zip code input field and a 'Search' button -->\n",
    "    <div id=\"searchBar\">\n",
    "        <input type=\"text\" id=\"zipcode\" placeholder=\"Enter Zipcode\">\n",
    "        <button class='button arthub' onclick=\"searchMuseums()\">Search</button>\n",
    "    </div>\n",
    "    <!-- An empty section with ID 'results' where search results will be displayed -->\n",
    "    <div id=\"results\"></div>\n",
    "    <!-- JavaScript block defining variables and functions for searching museums based on zip code -->\n",
    "    <script>\n",
    "        const host = \"https://arthub.stu.nighthawkcodingsociety.com\"; // Setting the host URL for API calls\n",
    "        //const host = \"https://localhost:8974\"; // Alternate local host URL for development purposes\n",
    "        const zip_search = host + \"/api/geocoding/?zipcode=\"; // Constructing the API endpoint for zip code searches\n",
    "        const options = {  // Defining options for the API call\n",
    "            method: 'GET',\n",
    "            mode: 'cors',\n",
    "            cache: 'default',\n",
    "            credentials: 'omit',\n",
    "            headers: {\n",
    "                'Content-Type': 'application/json'\n",
    "            }\n",
    "        };\n",
    "        // Function triggered when the 'Search' button is clicked, fetching museum data based on the entered zip code\n",
    "        function searchMuseums() {\n",
    "            const zipcode = document.getElementById('zipcode').value; // Fetching the zip code entered by the user\n",
    "            fetch(zip_search + zipcode, options) // Fetching data based on the provided zip code\n",
    "                .then(response => response.json()) // Handling the response in JSON format\n",
    "                .then(data => {\n",
    "                    displayResults(data.art_museums); // Passing the art_museums array to display function\n",
    "                })\n",
    "                .catch(error => console.error('Error:', error)); // Handling any errors that might occur during the fetch\n",
    "        }\n",
    "        // Function to display the retrieved museum results\n",
    "        function displayResults(data) {\n",
    "            const resultsDiv = document.getElementById('results'); // Retrieving the 'results' section\n",
    "            resultsDiv.innerHTML = ''; // Clearing any previous search results\n",
    "            data.forEach(item => { // Iterating through each museum item in the data array\n",
    "                const museum = document.createElement('div'); // Creating a div element for each museum\n",
    "                const googleMapsLink = `https://www.google.com/maps/search/?api=1&query=${encodeURIComponent(item.vicinity)}`; // Generating a Google Maps link based on the museum's vicinity\n",
    "                museum.innerHTML = `<strong>${item.name}</strong><br> Address: <a href=\"${googleMapsLink}\" target=\"_blank\">${item.vicinity} (View on Google Maps)</a><br><br>`; // Populating the museum div with its name, address, and a Google Maps link\n",
    "                resultsDiv.appendChild(museum); // Appending each museum div to the 'results' section for display\n",
    "            });\n",
    "        }\n",
    "    </script>\n",
    "</body>\n",
    "</html>\n"
   ]
  },
  {
   "cell_type": "markdown",
   "metadata": {},
   "source": [
    "Here is where I connect the api to the frontend and the information is being pulled. I use the const host as the deployed site but it could also be run on localhost. The search museum function takes in the zipcode and runs it through the api and reutrns what the closest museum is. The display results function then puts the results. "
   ]
  }
 ],
 "metadata": {
  "language_info": {
   "name": "python"
  }
 },
 "nbformat": 4,
 "nbformat_minor": 2
}
