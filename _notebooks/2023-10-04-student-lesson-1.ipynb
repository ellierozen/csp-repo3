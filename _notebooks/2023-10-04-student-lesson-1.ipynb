{
 "cells": [
  {
   "cell_type": "code",
   "execution_count": 2,
   "metadata": {},
   "outputs": [
    {
     "name": "stdout",
     "output_type": "stream",
     "text": [
      "3\n"
     ]
    }
   ],
   "source": [
    "xyz = 3 \n",
    "\n",
    "print(xyz)"
   ]
  },
  {
   "cell_type": "code",
   "execution_count": 14,
   "metadata": {},
   "outputs": [
    {
     "name": "stdout",
     "output_type": "stream",
     "text": [
      "3 is a number\n",
      "True is a boolean\n",
      "Ellie is my name\n"
     ]
    }
   ],
   "source": [
    "numberScore = 3\n",
    "isTrue = True\n",
    "firstName = \"Ellie\"\n",
    "\n",
    "print(str(numberScore) + \" is a number\")\n",
    "print(str(isTrue) + \" is a boolean\")\n",
    "print(firstName + \" is my name\")"
   ]
  },
  {
   "cell_type": "code",
   "execution_count": 13,
   "metadata": {},
   "outputs": [
    {
     "name": "stdout",
     "output_type": "stream",
     "text": [
      "6\n",
      "3\n"
     ]
    }
   ],
   "source": [
    "num1 = 3\n",
    "num2 = 6\n",
    "\n",
    "print(str(num2))\n",
    "\n",
    "num2 = num1\n",
    "\n",
    "print(str(num2))"
   ]
  },
  {
   "cell_type": "code",
   "execution_count": 16,
   "metadata": {},
   "outputs": [
    {
     "name": "stdout",
     "output_type": "stream",
     "text": [
      "expos\n"
     ]
    }
   ],
   "source": [
    "classSched  = [\"ap stats\", \"expos\", \"ap physics\", \"apcsp\", \"ap gov\"]\n",
    "print(classSched[1])"
   ]
  },
  {
   "cell_type": "markdown",
   "metadata": {},
   "source": [
    "# Hack 1"
   ]
  },
  {
   "cell_type": "markdown",
   "metadata": {},
   "source": [
    "integer = variable 1 \n",
    "\n",
    "string = variable 2 \n",
    "\n",
    "list = varible 3\n",
    "\n",
    "boolean = variable 4"
   ]
  },
  {
   "cell_type": "markdown",
   "metadata": {},
   "source": [
    "# Hack 2"
   ]
  },
  {
   "cell_type": "code",
   "execution_count": 20,
   "metadata": {},
   "outputs": [
    {
     "name": "stdout",
     "output_type": "stream",
     "text": [
      "5\n",
      "['sushi', 'anything from trader joes', 'ice cream']\n",
      "True\n",
      "blue\n",
      "<class 'list'>\n",
      "<class 'str'>\n"
     ]
    }
   ],
   "source": [
    "import json\n",
    "\n",
    "#varible ints\n",
    "numClasses = 5\n",
    "print(numClasses)\n",
    "\n",
    "#variable list\n",
    "favFoods = [\"sushi\", \"anything from trader joes\", \"ice cream\"]\n",
    "print(favFoods)\n",
    "\n",
    "#varible boolean \n",
    "inSchool = True\n",
    "print(inSchool)\n",
    "\n",
    "#variable string \n",
    "favColor = \"blue\"\n",
    "print(favColor)\n",
    "\n",
    "favFoodsJ = json.dumps(favFoods)\n",
    "print(type(favFoods))\n",
    "print(type(favFoodsJ))\n"
   ]
  }
 ],
 "metadata": {
  "kernelspec": {
   "display_name": "Python 3",
   "language": "python",
   "name": "python3"
  },
  "language_info": {
   "codemirror_mode": {
    "name": "ipython",
    "version": 3
   },
   "file_extension": ".py",
   "mimetype": "text/x-python",
   "name": "python",
   "nbconvert_exporter": "python",
   "pygments_lexer": "ipython3",
   "version": "3.8.10"
  },
  "orig_nbformat": 4
 },
 "nbformat": 4,
 "nbformat_minor": 2
}
