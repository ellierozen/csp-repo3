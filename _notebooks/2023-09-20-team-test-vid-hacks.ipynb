{
 "cells": [
  {
   "cell_type": "markdown",
   "metadata": {},
   "source": [
    "# Identifying and Correcting Errors"
   ]
  },
  {
   "cell_type": "code",
   "execution_count": 9,
   "metadata": {},
   "outputs": [
    {
     "name": "stdout",
     "output_type": "stream",
     "text": [
      "Based on your measurement, your shirt size is: small\n"
     ]
    }
   ],
   "source": [
    "def get_shirt_size(measurement):\n",
    "\n",
    "    if measurement > 32:\n",
    "        return \"small\"\n",
    "    if measurement > 36:\n",
    "        return \"Medium\"\n",
    "    if measurement > 40:\n",
    "        return \"Large\"\n",
    "    if measurement > 44:\n",
    "        return \"X-Large\"\n",
    " \n",
    "    \n",
    "measurement = float(input(\"Enter your chest measurement (in inches): \"))\n",
    "shirt_size = get_shirt_size(measurement)\n",
    "print(f\"Based on your measurement, your shirt size is: {shirt_size}\")"
   ]
  },
  {
   "cell_type": "code",
   "execution_count": 10,
   "metadata": {},
   "outputs": [
    {
     "name": "stdout",
     "output_type": "stream",
     "text": [
      "Based on your measurement, your shirt size is: Medium\n"
     ]
    }
   ],
   "source": [
    "def get_shirt_size(measurement):\n",
    "\n",
    "    if measurement < 36:\n",
    "        return \"Small\"\n",
    "    elif measurement < 40:\n",
    "        return \"Medium\"\n",
    "    elif measurement < 44:\n",
    "        return \"Large\"\n",
    "    else:\n",
    "        return \"X-Large\"\n",
    "\n",
    " \n",
    "    \n",
    "measurement = float(input(\"Enter your chest measurement (in inches): \"))\n",
    "shirt_size = get_shirt_size(measurement)\n",
    "print(f\"Based on your measurement, your shirt size is: {shirt_size}\")"
   ]
  },
  {
   "cell_type": "markdown",
   "metadata": {},
   "source": [
    "# original code"
   ]
  },
  {
   "cell_type": "markdown",
   "metadata": {},
   "source": [
    "# testing using if statements "
   ]
  },
  {
   "cell_type": "code",
   "execution_count": 1,
   "metadata": {},
   "outputs": [
    {
     "name": "stdout",
     "output_type": "stream",
     "text": [
      "Test 1 result: 5.0\n",
      "Test 2 result: Error: Cannot divide by zero\n"
     ]
    }
   ],
   "source": [
    "def divide_nums(a, b):\n",
    "    # check dividing by zero\n",
    "    if b == 0:\n",
    "        return \"Error: Cannot divide by zero\"\n",
    "\n",
    "\n",
    "    # divide \n",
    "    result = a / b\n",
    "    return result\n",
    "\n",
    "# test with numbers \n",
    "def run_tests():\n",
    "    # test case 1 : valid \n",
    "    result1 = divide_nums(10, 2)\n",
    "    print(\"Test 1 result:\", result1)\n",
    "\n",
    "    # test case 2: not valid \n",
    "    result2 = divide_nums(5, 0)\n",
    "    print(\"Test 2 result:\", result2)\n",
    "\n",
    "# run tests \n",
    "run_tests()\n"
   ]
  },
  {
   "cell_type": "markdown",
   "metadata": {},
   "source": [
    "# try and except (catch) statements "
   ]
  },
  {
   "cell_type": "code",
   "execution_count": 8,
   "metadata": {},
   "outputs": [
    {
     "name": "stdout",
     "output_type": "stream",
     "text": [
      "Test 1 result: 5.0\n",
      "Test 2 result: Error: Cannot divide by zero\n"
     ]
    }
   ],
   "source": [
    "def divide_nums(a, b):\n",
    "    try:\n",
    "        # Attempt division\n",
    "        result = a / b\n",
    "        return result\n",
    "    except ZeroDivisionError:\n",
    "        return \"Error: Cannot divide by zero\"\n",
    "    except TypeError:\n",
    "        return \"Error: Please provide numerical inputs\"\n",
    "\n",
    "# Test the function\n",
    "def run_tests():\n",
    "    # Test case 1: Valid division\n",
    "    try:\n",
    "        result1 = divide_nums(10, 2)\n",
    "        print(\"Test 1 result:\", result1)\n",
    "    except Exception as e:\n",
    "        print(\"An error occurred:\", str(e))\n",
    "\n",
    "    # Test case 2: Division by zero\n",
    "    try:\n",
    "        result2 = divide_nums(5, 0)\n",
    "        print(\"Test 2 result:\", result2)\n",
    "    except Exception as e:\n",
    "        print(\"An error occurred:\", str(e))\n",
    "\n",
    "\n",
    "# Run the tests\n",
    "run_tests()\n"
   ]
  }
 ],
 "metadata": {
  "kernelspec": {
   "display_name": "Python 3",
   "language": "python",
   "name": "python3"
  },
  "language_info": {
   "codemirror_mode": {
    "name": "ipython",
    "version": 3
   },
   "file_extension": ".py",
   "mimetype": "text/x-python",
   "name": "python",
   "nbconvert_exporter": "python",
   "pygments_lexer": "ipython3",
   "version": "3.8.10"
  },
  "orig_nbformat": 4
 },
 "nbformat": 4,
 "nbformat_minor": 2
}
