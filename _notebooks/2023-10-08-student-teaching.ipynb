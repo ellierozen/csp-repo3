{
 "cells": [
  {
   "cell_type": "markdown",
   "metadata": {},
   "source": [
    "# Conditionals"
   ]
  },
  {
   "cell_type": "markdown",
   "metadata": {},
   "source": [
    "# learning objective: write algorithms that uses selection without using a programming language \n",
    "\n",
    "## vocab \n",
    "selection: determines which part of an algorithm are executed based on condition being true or false\n",
    "algorithm: a finite set of instructions that accomplish a specific task\n",
    "\n",
    "### ex determine if a number is in range \n",
    "- get number from user \n",
    "- is number greater than - and less than 10 \n",
    "- if yes display number \n",
    "- if no display goodbye \n",
    "\n",
    "\n"
   ]
  },
  {
   "cell_type": "markdown",
   "metadata": {},
   "source": [
    "# participation hack: \n",
    "give me different ways you would determine if a kid needs to go to tutoring"
   ]
  },
  {
   "cell_type": "markdown",
   "metadata": {},
   "source": [
    "# writing conditionals \n",
    "\n",
    "### format\n",
    "\n",
    "if (condition) :\n",
    "    <block of statements>\n",
    "\n",
    "- if the condition evaluates to true then the block of statements occurs \n",
    "- if not then no action is taken \n",
    "\n",
    "or \n",
    "\n",
    "if (condition) :\n",
    "    <first block of statements>\n",
    "else:\n",
    "    <second block of statements>\n",
    "\n",
    "\n",
    "-  if the condition is true then first block is executed if false then the second black or else statement is executed\n",
    "\n"
   ]
  },
  {
   "cell_type": "markdown",
   "metadata": {},
   "source": [
    "## Example -- multiple of 3?"
   ]
  },
  {
   "cell_type": "code",
   "execution_count": 2,
   "metadata": {},
   "outputs": [
    {
     "name": "stdout",
     "output_type": "stream",
     "text": [
      "multiple of 3\n"
     ]
    }
   ],
   "source": [
    "number = 9\n",
    "\n",
    "if number % 3 == 0 :\n",
    "    print (\"multiple of 3\")\n",
    "else: \n",
    "    print (\"not multiple of 3\")\n"
   ]
  },
  {
   "cell_type": "markdown",
   "metadata": {},
   "source": [
    "# Popcorn Hack \n",
    "\n",
    "calculate the sum of two numbers -> if the sum is greater than 100 display 100, otherwise display the sum\n"
   ]
  },
  {
   "cell_type": "markdown",
   "metadata": {},
   "source": [
    "help you guys get started: \n",
    "\n",
    "num 1 = \n",
    "num 2 = \n",
    "\n",
    "sum = num 1 + num 2 \n",
    "\n",
    "if ():\n",
    "\n",
    "else :\n"
   ]
  },
  {
   "cell_type": "code",
   "execution_count": null,
   "metadata": {},
   "outputs": [],
   "source": []
  }
 ],
 "metadata": {
  "kernelspec": {
   "display_name": "Python 3",
   "language": "python",
   "name": "python3"
  },
  "language_info": {
   "codemirror_mode": {
    "name": "ipython",
    "version": 3
   },
   "file_extension": ".py",
   "mimetype": "text/x-python",
   "name": "python",
   "nbconvert_exporter": "python",
   "pygments_lexer": "ipython3",
   "version": "3.8.10"
  },
  "orig_nbformat": 4
 },
 "nbformat": 4,
 "nbformat_minor": 2
}
